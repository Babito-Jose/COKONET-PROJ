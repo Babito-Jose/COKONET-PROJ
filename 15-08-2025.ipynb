{
 "cells": [
  {
   "cell_type": "code",
   "execution_count": 10,
   "id": "3665b398-29ac-4cc8-b71d-7dce66054a7b",
   "metadata": {},
   "outputs": [
    {
     "name": "stdin",
     "output_type": "stream",
     "text": [
      "First number -->  1\n",
      "Second number -->  50215\n"
     ]
    },
    {
     "name": "stdout",
     "output_type": "stream",
     "text": [
      "The sum of 2 numbers is -->  50216\n"
     ]
    }
   ],
   "source": [
    "x = int (input (\"First number --> \"))\n",
    "y = int(input (\"Second number --> \"))\n",
    "print (\"The sum of 2 numbers is --> \", x+y)"
   ]
  },
  {
   "cell_type": "code",
   "execution_count": 11,
   "id": "e81cef92-fef0-4251-9821-b8a9872216df",
   "metadata": {},
   "outputs": [
    {
     "name": "stdin",
     "output_type": "stream",
     "text": [
      "first name -  Babito\n",
      "second name- Jose\n"
     ]
    },
    {
     "data": {
      "text/plain": [
       "'Babito Jose'"
      ]
     },
     "execution_count": 11,
     "metadata": {},
     "output_type": "execute_result"
    }
   ],
   "source": [
    "name1= input(\"first name - \")\n",
    "name2= input(\"second name-\")\n",
    "full_name= name1 + \" \" + name2\n",
    "full_name"
   ]
  }
 ],
 "metadata": {
  "kernelspec": {
   "display_name": "Python 3 (ipykernel)",
   "language": "python",
   "name": "python3"
  },
  "language_info": {
   "codemirror_mode": {
    "name": "ipython",
    "version": 3
   },
   "file_extension": ".py",
   "mimetype": "text/x-python",
   "name": "python",
   "nbconvert_exporter": "python",
   "pygments_lexer": "ipython3",
   "version": "3.12.7"
  }
 },
 "nbformat": 4,
 "nbformat_minor": 5
}
